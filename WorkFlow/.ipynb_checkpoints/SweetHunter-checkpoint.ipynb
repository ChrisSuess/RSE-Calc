{
 "cells": [
  {
   "cell_type": "markdown",
   "metadata": {},
   "source": [
    "## Radical Stabilisation Energy Calculation Workflow\n",
    "\n",
    "This workflow takes a user through the entire process to the calculate the Radical Stabilisation Energy in a ligand-protein complex. It will hold you hand (if you want) throughout the entire workflow. If you would like to do something a little different you will need to alter certain parts but hopefully this is clear! The settings used here are for 'demo' mode so a user can get a flavour of the workflow\n",
    "\n",
    "It takes a PDB as starting structure parameterises, minimises and equilibrates the structure before running a production run. It then takes the ligand adds point charges and runs QM energy calculations. Finally it calculates the vRSE and produces some nice graphs. Ill work on a nice workflow diagram and paragraph to explain it as well.\n",
    "\n",
    "Chris Suess \n",
    "\n",
    "christian.suess1@nottingham.ac.uk"
   ]
  },
  {
   "cell_type": "code",
   "execution_count": 44,
   "metadata": {},
   "outputs": [
    {
     "name": "stdout",
     "output_type": "stream",
     "text": [
      "Success - you seem to have everything ready to go.\n"
     ]
    }
   ],
   "source": [
    "#This part checks for any dependencies we will need throughout the workflow\n",
    "\n",
    "all_good = True\n",
    "\n",
    "try:\n",
    "    import xbowflow\n",
    "except ImportError:\n",
    "    print('Error - you neeed to install xbowflow')\n",
    "    all_good = False\n",
    "\n",
    "try:\n",
    "    import numpy as np\n",
    "except ImportError:\n",
    "    print('Error - you neeed to install numpy')\n",
    "    all_good = False\n",
    "    \n",
    "try:\n",
    "    import mdtraj as mdt\n",
    "except ImportError:\n",
    "    print('Error - you need to install mdtraj')\n",
    "    all_good = False\n",
    "\n",
    "try:\n",
    "    import matplotlib.pyplot as plt\n",
    "    %matplotlib inline\n",
    "except ImportError:\n",
    "    print('Error - you need to install matplotlib')\n",
    "    all_good = False\n",
    "    \n",
    "try:\n",
    "    import nglview as nv\n",
    "except ImportError:\n",
    "    print('Error - you need to install nglview')\n",
    "    all_good = False\n",
    "    \n",
    "try:\n",
    "    import pinda\n",
    "except ImportError:\n",
    "    print('Error - you need to install pinda')\n",
    "    all_good = False\n",
    "    #Pinda is nice wrapper for docker. You will also need docker.\n",
    "\n",
    "        \n",
    "if all_good:\n",
    "    print('Success - everything is ready to go.')"
   ]
  },
  {
   "cell_type": "code",
   "execution_count": 2,
   "metadata": {
    "scrolled": true
   },
   "outputs": [],
   "source": [
    "from utilities import *\n",
    "%matplotlib inline\n",
    "\n",
    "pdb_code = '4njh' # downloads PDB from https://www.rcsb.org/ it can be changed for a local copy\n",
    "structures = download(pdb_code)"
   ]
  },
  {
   "cell_type": "markdown",
   "metadata": {},
   "source": [
    "In the next cell, we use the display() function to view our molecule:"
   ]
  },
  {
   "cell_type": "code",
   "execution_count": 3,
   "metadata": {
    "scrolled": true
   },
   "outputs": [
    {
     "name": "stdout",
     "output_type": "stream",
     "text": [
      "1\n"
     ]
    },
    {
     "data": {
      "application/vnd.jupyter.widget-view+json": {
       "model_id": "804fd664b2ff4a1890dc55e347fceef1",
       "version_major": 2,
       "version_minor": 0
      },
      "text/plain": [
       "NGLWidget()"
      ]
     },
     "metadata": {},
     "output_type": "display_data"
    }
   ],
   "source": [
    "view0 = display(structures)\n",
    "view0"
   ]
  },
  {
   "cell_type": "code",
   "execution_count": 4,
   "metadata": {},
   "outputs": [],
   "source": [
    "peptides = select(structures, 'protein') # only keep parts of the structure that are 'protein'\n",
    "model_number = 0\n",
    "clean_structure = clean_up(peptides[model_number]) # cleans structure using pdb4amber"
   ]
  },
  {
   "cell_type": "markdown",
   "metadata": {},
   "source": [
    "The below cell parameterises the protein-ligand complex using 'standard' methods"
   ]
  },
  {
   "cell_type": "code",
   "execution_count": 5,
   "metadata": {},
   "outputs": [
    {
     "name": "stdout",
     "output_type": "stream",
     "text": [
      "-I: Adding /root/amber18/dat/leap/prep to search path.\n",
      "-I: Adding /root/amber18/dat/leap/lib to search path.\n",
      "-I: Adding /root/amber18/dat/leap/parm to search path.\n",
      "-I: Adding /root/amber18/dat/leap/cmd to search path.\n",
      "-f: Source leap.in.\n",
      "\n",
      "Welcome to LEaP!\n",
      "(no leaprc in search path)\n",
      "Sourcing: ./leap.in\n",
      "----- Source: /root/amber18/dat/leap/cmd/leaprc.protein.ff14SB\n",
      "----- Source of /root/amber18/dat/leap/cmd/leaprc.protein.ff14SB done\n",
      "Log file: ./leap.log\n",
      "Loading parameters: /root/amber18/dat/leap/parm/parm10.dat\n",
      "Reading title:\n",
      "PARM99 + frcmod.ff99SB + frcmod.parmbsc0 + OL3 for RNA\n",
      "Loading parameters: /root/amber18/dat/leap/parm/frcmod.ff14SB\n",
      "Reading force field modification type file (frcmod)\n",
      "Reading title:\n",
      "ff14SB protein backbone and sidechain parameters\n",
      "Loading library: /root/amber18/dat/leap/lib/amino12.lib\n",
      "Loading library: /root/amber18/dat/leap/lib/aminoct12.lib\n",
      "Loading library: /root/amber18/dat/leap/lib/aminont12.lib\n",
      "----- Source: /root/amber18/dat/leap/cmd/leaprc.water.tip3p\n",
      "----- Source of /root/amber18/dat/leap/cmd/leaprc.water.tip3p done\n",
      "Loading library: /root/amber18/dat/leap/lib/atomic_ions.lib\n",
      "Loading library: /root/amber18/dat/leap/lib/solvents.lib\n",
      "Loading parameters: /root/amber18/dat/leap/parm/frcmod.tip3p\n",
      "Reading force field modification type file (frcmod)\n",
      "Reading title:\n",
      "This is the additional/replacement parameter set for TIP3P water\n",
      "Loading parameters: /root/amber18/dat/leap/parm/frcmod.ionsjc_tip3p\n",
      "Reading force field modification type file (frcmod)\n",
      "Reading title:\n",
      "Monovalent ion parameters for Ewald and TIP3P water from Joung & Cheatham JPCB (2008)\n",
      "Loading parameters: /root/amber18/dat/leap/parm/frcmod.ions234lm_126_tip3p\n",
      "Reading force field modification type file (frcmod)\n",
      "Reading title:\n",
      "Li/Merz ion parameters of divalent to tetravalent ions for TIP3P water model (12-6 normal usage set)\n",
      "Loading PDB file: ./x.pdb\n",
      "  total atoms in file: 3240\n",
      "  Leap added 3156 missing atoms according to residue templates:\n",
      "       3156 H / lone pairs\n",
      "Scaling up box by a factor of 1.257961 to meet diagonal cut criterion\n",
      "  Solute vdw bounding box:              78.376 42.681 57.992\n",
      "  Total bounding box for atom centers:  103.535 103.535 103.535\n",
      "      (box expansion for 'iso' is  90.0%)\n",
      "  Solvent unit box:                     18.774 18.774 18.774\n",
      "  Volume: 571157.996 A^3 (oct)\n",
      "  Total mass 312098.912 amu,  Density 0.907 g/cc\n",
      "  Added 14769 residues.\n",
      "\n",
      "/root/amber18/bin/teLeap: Warning!\n",
      "addIons: 1st Ion & target unit have charges of the same sign:\n",
      "     unit charge = -14; ion1 charge = -1;\n",
      "     can't neutralize.\n",
      "Checking Unit.\n",
      "\n",
      "/root/amber18/bin/teLeap: Warning!\n",
      "The unperturbed charge of the unit (-14.000000) is not zero.\n",
      "\n",
      "/root/amber18/bin/teLeap: Note.\n",
      "Ignoring the warning from Unit Checking.\n",
      "\n",
      "Building topology.\n",
      "Building atom parameters.\n",
      "Building bond parameters.\n",
      "Building angle parameters.\n",
      "Building proper torsion parameters.\n",
      "Building improper torsion parameters.\n",
      " total 1318 improper torsions applied\n",
      "Building H-Bond parameters.\n",
      "Incorporating Non-Bonded adjustments.\n",
      "Not Marking per-residue atom chain types.\n",
      "Marking per-residue atom chain types.\n",
      "  (Residues lacking connect0/connect1 - \n",
      "   these don't have chain types marked:\n",
      "\n",
      "\tres\ttotal affected\n",
      "\n",
      "\tCPRO\t2\n",
      "\tNTHR\t2\n",
      "\tWAT\t14769\n",
      "  )\n",
      " (no restraints)\n",
      "\tQuit\n",
      "\n",
      "Exiting LEaP: Errors = 0; Warnings = 2; Notes = 1.\n",
      "\n"
     ]
    }
   ],
   "source": [
    "parameters = ['leaprc.protein.ff14SB', 'leaprc.water.tip3p']\n",
    "script = \"\"\"\n",
    "\n",
    "solvateoct x TIP3PBOX 10.0\n",
    "addions x Cl- 0\n",
    "\n",
    "\"\"\"\n",
    "topology, start_coordinates = run_leap(parameters, script, clean_structure)"
   ]
  },
  {
   "cell_type": "code",
   "execution_count": 6,
   "metadata": {},
   "outputs": [
    {
     "name": "stdout",
     "output_type": "stream",
     "text": [
      "1\n"
     ]
    },
    {
     "data": {
      "application/vnd.jupyter.widget-view+json": {
       "model_id": "c7301f5d39644bac957e6f885de2fad9",
       "version_major": 2,
       "version_minor": 0
      },
      "text/plain": [
       "NGLWidget()"
      ]
     },
     "metadata": {},
     "output_type": "display_data"
    }
   ],
   "source": [
    "view = display(start_coordinates, topology)\n",
    "view"
   ]
  },
  {
   "cell_type": "markdown",
   "metadata": {},
   "source": [
    "Next we run the energy minimisation job. The commands for this in the input script are very simple: a) do a minimization (imin=1), b) run for a maximum of 1000 steps (maxcyc=1000), c) use *periodic boundary conditions* (ntb=1). \n",
    "\n",
    "The minimize() command produces two outputs: the minimized coordinates, and a log file with information about what happened during rhe run. This is a fairly heavy calculation, the cell may take a minute to run."
   ]
  },
  {
   "cell_type": "code",
   "execution_count": 10,
   "metadata": {},
   "outputs": [
    {
     "data": {
      "text/plain": [
       "'em_out.log'"
      ]
     },
     "execution_count": 10,
     "metadata": {},
     "output_type": "execute_result"
    }
   ],
   "source": [
    "minimization_script = '''\n",
    "\n",
    "&cntrl\n",
    " imin=1, maxcyc=1000,\n",
    " ntb=1,\n",
    " /\n",
    " \n",
    " '''\n",
    "\n",
    "minimized_coordinates, logfile = minimize(minimization_script, start_coordinates, topology)\n",
    "minimized_coordinates.save(\"em_out.ncrst\")\n",
    "logfile.save(\"em_out.log\")"
   ]
  },
  {
   "cell_type": "markdown",
   "metadata": {},
   "source": [
    "Look at the results. Load both the starting and final coordinates into the viewer, so you can see how the structure has changed over the minimization."
   ]
  },
  {
   "cell_type": "code",
   "execution_count": 11,
   "metadata": {},
   "outputs": [
    {
     "name": "stdout",
     "output_type": "stream",
     "text": [
      "2\n"
     ]
    },
    {
     "data": {
      "application/vnd.jupyter.widget-view+json": {
       "model_id": "4bdb8a9717554b478a04fb76afd0e71d",
       "version_major": 2,
       "version_minor": 0
      },
      "text/plain": [
       "NGLWidget(count=2)"
      ]
     },
     "metadata": {},
     "output_type": "display_data"
    }
   ],
   "source": [
    "view2 = display([start_coordinates, minimized_coordinates], topology)\n",
    "view2"
   ]
  },
  {
   "cell_type": "markdown",
   "metadata": {},
   "source": [
    "Before moving on, see how complete the enetgy minimisation process was, by plotting how the total energy of the system changed over the 1000 steps:"
   ]
  },
  {
   "cell_type": "code",
   "execution_count": 12,
   "metadata": {},
   "outputs": [
    {
     "data": {
      "image/png": "[encoded data removed]",
      "text/plain": [
       "<Figure size 432x288 with 1 Axes>"
      ]
     },
     "metadata": {
      "needs_background": "light"
     },
     "output_type": "display_data"
    }
   ],
   "source": [
    "plot_energies(logfile)"
   ]
  },
  {
   "cell_type": "markdown",
   "metadata": {},
   "source": [
    "You should see that the energy minimisation seems to have been fairly succesful - the energy of the system is almost stable by the end of the run.\n",
    "\n",
    "Now we run the main molecular dynamics (MD) simulation. The script is more detailed, you will need to consult the [Amber manual](http://ambermd.org/doc12/Amber16.pdf) to get the details. \n",
    "\n",
    "The run_md() command produces three outputs: the final coordinates of the system, a *trajectory* file, and another log file. This is a major computation, and will take a couple of minutes, or maybe longer, to complete."
   ]
  },
  {
   "cell_type": "code",
   "execution_count": 15,
   "metadata": {},
   "outputs": [
    {
     "data": {
      "text/plain": [
       "'md_out.log'"
      ]
     },
     "execution_count": 15,
     "metadata": {},
     "output_type": "execute_result"
    }
   ],
   "source": [
    "md_script = '''\n",
    "\n",
    "&cntrl\n",
    " imin=0, irest=0, ntx=1, dt=0.002,\n",
    " ntt=3, temp0=300, gamma_ln=5.0,\n",
    " ntp=1, taup=2.0,\n",
    " ntb=2, ntc=2, ntf=2,\n",
    " nstlim=1000, ntwx=500, ntpr=500,\n",
    " /\n",
    " \n",
    " '''\n",
    "\n",
    "final_coordinates, trajectory, md_log = run_md(md_script, minimized_coordinates, topology)\n",
    "final_coordinates.save(\"md_out.ncrst\")\n",
    "trajectory.save(\"md_out.nc\")\n",
    "md_log.save(\"md_out.log\")"
   ]
  },
  {
   "cell_type": "markdown",
   "metadata": {},
   "source": [
    "Look at the results. The script above set the total simulation time to be twenty picoseconds, and asked for a snapshot to be saved to the trajectory every picosecond, so there are twenty frames in the animation."
   ]
  },
  {
   "cell_type": "code",
   "execution_count": 16,
   "metadata": {},
   "outputs": [
    {
     "name": "stdout",
     "output_type": "stream",
     "text": [
      "2\n"
     ]
    },
    {
     "data": {
      "application/vnd.jupyter.widget-view+json": {
       "model_id": "07ad08fc1d4746c2856a76182530d77e",
       "version_major": 2,
       "version_minor": 0
      },
      "text/plain": [
       "NGLWidget(count=2)"
      ]
     },
     "metadata": {},
     "output_type": "display_data"
    }
   ],
   "source": [
    "view3 = display(trajectory, topology)\n",
    "view3"
   ]
  },
  {
   "cell_type": "markdown",
   "metadata": {},
   "source": [
    "## vRSE Calculation using point charges\n",
    "\n",
    "Extracts ligand from trajectory of MD simulations. Creates inputs for Single Point Energy Calculations.\n",
    "\n",
    "Assumes a QM package is available"
   ]
  },
  {
   "cell_type": "code",
   "execution_count": null,
   "metadata": {},
   "outputs": [],
   "source": []
  },
  {
   "cell_type": "code",
   "execution_count": 41,
   "metadata": {},
   "outputs": [],
   "source": [
    "ligand = select(structures, 'residue 2K8 and chainid 0')"
   ]
  },
  {
   "cell_type": "code",
   "execution_count": 42,
   "metadata": {},
   "outputs": [
    {
     "name": "stdout",
     "output_type": "stream",
     "text": [
      "1\n"
     ]
    },
    {
     "data": {
      "application/vnd.jupyter.widget-view+json": {
       "model_id": "3e2e2963605c4eeca51ef1cba55d13d5",
       "version_major": 2,
       "version_minor": 0
      },
      "text/plain": [
       "NGLWidget()"
      ]
     },
     "metadata": {},
     "output_type": "display_data"
    }
   ],
   "source": [
    "view1 = display(ligand)\n",
    "view1"
   ]
  },
  {
   "cell_type": "markdown",
   "metadata": {},
   "source": [
    "## vRSE Calculation"
   ]
  },
  {
   "cell_type": "code",
   "execution_count": null,
   "metadata": {},
   "outputs": [],
   "source": []
  }
 ],
 "metadata": {
  "kernelspec": {
   "display_name": "Python 3",
   "language": "python",
   "name": "python3"
  },
  "language_info": {
   "codemirror_mode": {
    "name": "ipython",
    "version": 3
   },
   "file_extension": ".py",
   "mimetype": "text/x-python",
   "name": "python",
   "nbconvert_exporter": "python",
   "pygments_lexer": "ipython3",
   "version": "3.6.5"
  }
 },
 "nbformat": 4,
 "nbformat_minor": 2
}
