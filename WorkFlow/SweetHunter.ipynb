{
 "cells": [
  {
   "cell_type": "markdown",
   "metadata": {},
   "source": [
    "## Radical Stabilisation Energy Calculation Workflow\n",
    "\n",
    "This workflow takes a user through the entire process to the calculate the Radical Stabilisation Energy in a ligand-protein complex. It will hold you hand (if you want) throughout the entire workflow. If you would like to do something a little you will need to alter certain parts but hopefully this is clear!\n",
    "\n",
    "It takes a PDB as starting structure parameterises, minimises and equilibrates the structure before running a production run. It then takes the ligand adds point charges and runs QM energy calculations. Finally it calculates the vRSE and produces some nice graphs. Ill work on a nice workflow diagram and paragraph to explain it as well.\n",
    "\n",
    "Chris Suess \n",
    "\n",
    "christian.suess1@nottingham.ac.uk"
   ]
  },
  {
   "cell_type": "code",
   "execution_count": null,
   "metadata": {},
   "outputs": [],
   "source": [
    "#This part checks for any dependencies we will need throughout the workflow\n",
    "\n",
    "all_good = True\n",
    "\n",
    "try:\n",
    "    import numpy as np\n",
    "except ImportError:\n",
    "    print('Error - you neeed to install numpy')\n",
    "    all_good = False\n",
    "    \n",
    "try:\n",
    "    import mdtraj as mdt\n",
    "except ImportError:\n",
    "    print('Error - you need to install mdtraj')\n",
    "    all_good = False\n",
    "\n",
    "try:\n",
    "    import matplotlib.pyplot as plt\n",
    "    %matplotlib inline\n",
    "except ImportError:\n",
    "    print('Error - you need to install matplotlib')\n",
    "    all_good = False\n",
    "    \n",
    "try:\n",
    "    import nglview as nv\n",
    "except ImportError:\n",
    "    print('Error - you need to install nglview')\n",
    "    all_good = False\n",
    "    \n",
    "try:\n",
    "    import pinda\n",
    "except ImportError:\n",
    "    print('Error - you need to install pinda')\n",
    "    all_good = False\n",
    "\n",
    "        \n",
    "if all_good:\n",
    "    print('Success - you seem to have everything ready to go.')"
   ]
  },
  {
   "cell_type": "code",
   "execution_count": null,
   "metadata": {
    "scrolled": true
   },
   "outputs": [],
   "source": [
    "from utilities import *\n",
    "%matplotlib inline\n",
    "\n",
    "pdb_code = '4nji' # downloads PDB from https://www.rcsb.org/ it can be changed for a local copy\n",
    "structures = download(pdb_code)"
   ]
  },
  {
   "cell_type": "markdown",
   "metadata": {},
   "source": [
    "In the next cell, we use the display() function to view our molecule:"
   ]
  },
  {
   "cell_type": "code",
   "execution_count": null,
   "metadata": {
    "scrolled": true
   },
   "outputs": [],
   "source": [
    "view0 = display(structures)\n",
    "view0"
   ]
  },
  {
   "cell_type": "code",
   "execution_count": null,
   "metadata": {},
   "outputs": [],
   "source": [
    "peptides = select(structures, 'protein') # only keep parts of the structure that are 'protein'\n",
    "clean_structure = clean_up(peptides[model_number]) # cleans structure using pdb4amber"
   ]
  },
  {
   "cell_type": "markdown",
   "metadata": {},
   "source": [
    "The below cell parameterises the protein-ligand complex using 'standard' methods"
   ]
  },
  {
   "cell_type": "code",
   "execution_count": null,
   "metadata": {},
   "outputs": [],
   "source": [
    "parameters = ['leaprc.protein.ff14SB', 'leaprc.water.tip3p']\n",
    "script = \"\"\"\n",
    "\n",
    "solvateoct x TIP3PBOX 10.0\n",
    "addions x Cl- 0\n",
    "\n",
    "\"\"\"\n",
    "topology, start_coordinates = run_leap(parameters, script, clean_structure)"
   ]
  },
  {
   "cell_type": "code",
   "execution_count": null,
   "metadata": {},
   "outputs": [],
   "source": [
    "view = display(start_coordinates, topology)\n",
    "view"
   ]
  },
  {
   "cell_type": "markdown",
   "metadata": {},
   "source": [
    "Next we run the energy minimisation job. The commands for this in the input script are very simple: a) do a minimization (imin=1), b) run for a maximum of 1000 steps (maxcyc=1000), c) use *periodic boundary conditions* (ntb=1). \n",
    "\n",
    "The minimize() command produces two outputs: the minimized coordinates, and a log file with information about what happened during rhe run. This is a fairly heavy calculation, the cell may take a minute to run."
   ]
  },
  {
   "cell_type": "code",
   "execution_count": null,
   "metadata": {},
   "outputs": [],
   "source": [
    "minimization_script = '''\n",
    "\n",
    "&cntrl\n",
    " imin=1, maxcyc=1000,\n",
    " ntb=1,\n",
    " /\n",
    " \n",
    " '''\n",
    "\n",
    "minimized_coordinates, logfile = minimize(minimization_script, start_coordinates, topology)\n",
    "minimized_coordinates.save(\"em_out.ncrst\")\n",
    "logfile.save(\"em_out.log\")"
   ]
  },
  {
   "cell_type": "markdown",
   "metadata": {},
   "source": [
    "Look at the results. Load both the starting and final coordinates into the viewer, so you can see how the structure has changed over the minimization."
   ]
  },
  {
   "cell_type": "code",
   "execution_count": null,
   "metadata": {},
   "outputs": [],
   "source": [
    "view2 = display([start_coordinates, minimized_coordinates], topology)\n",
    "view2"
   ]
  },
  {
   "cell_type": "markdown",
   "metadata": {},
   "source": [
    "Before moving on, see how complete the enetgy minimisation process was, by plotting how the total energy of the system changed over the 1000 steps:"
   ]
  },
  {
   "cell_type": "code",
   "execution_count": null,
   "metadata": {},
   "outputs": [],
   "source": [
    "plot_energies(logfile)"
   ]
  },
  {
   "cell_type": "markdown",
   "metadata": {},
   "source": [
    "You should see that the energy minimisation seems to have been fairly succesful - the energy of the system is almost stable by the end of the run.\n",
    "\n",
    "Now we run the main molecular dynamics (MD) simulation. The script is more detailed, you will need to consult the [Amber manual](http://ambermd.org/doc12/Amber16.pdf) to get the details. \n",
    "\n",
    "The run_md() command produces three outputs: the final coordinates of the system, a *trajectory* file, and another log file. This is a major computation, and will take a couple of minutes, or maybe longer, to complete."
   ]
  },
  {
   "cell_type": "code",
   "execution_count": null,
   "metadata": {},
   "outputs": [],
   "source": [
    "md_script = '''\n",
    "\n",
    "&cntrl\n",
    " imin=0, irest=0, ntx=1, dt=0.002,\n",
    " ntt=3, temp0=300, gamma_ln=5.0,\n",
    " ntp=1, taup=2.0,\n",
    " ntb=2, ntc=2, ntf=2,\n",
    " nstlim=10000, ntwx=500, ntpr=500,\n",
    " /\n",
    " \n",
    " '''\n",
    "\n",
    "final_coordinates, trajectory, md_log = run_md(md_script, minimized_coordinates, topology)\n",
    "final_coordinates.save(\"md_out.ncrst\")\n",
    "trajectory.save(\"md_out.nc\")\n",
    "md_log.save(\"md_out.log\")"
   ]
  },
  {
   "cell_type": "markdown",
   "metadata": {},
   "source": [
    "Look at the results. The script above set the total simulation time to be twenty picoseconds, and asked for a snapshot to be saved to the trajectory every picosecond, so there are twenty frames in the animation."
   ]
  },
  {
   "cell_type": "code",
   "execution_count": null,
   "metadata": {},
   "outputs": [],
   "source": [
    "view3 = display(trajectory, topology)\n",
    "view3"
   ]
  },
  {
   "cell_type": "markdown",
   "metadata": {},
   "source": [
    "## vRSE Calculation using point charges\n",
    "\n",
    "Extracts ligand from trajectory of MD simulations. Creates inputs for Single Point Energy Calculations.\n",
    "\n",
    "Assumes a QM package is available"
   ]
  },
  {
   "cell_type": "code",
   "execution_count": null,
   "metadata": {},
   "outputs": [],
   "source": [
    "view0 = display(structures)\n",
    "view0"
   ]
  },
  {
   "cell_type": "code",
   "execution_count": null,
   "metadata": {},
   "outputs": [],
   "source": [
    "ligand = select(structures, 'residue 2K8')"
   ]
  },
  {
   "cell_type": "code",
   "execution_count": null,
   "metadata": {},
   "outputs": [],
   "source": [
    "view1 = display(ligand)\n",
    "view1"
   ]
  },
  {
   "cell_type": "markdown",
   "metadata": {},
   "source": [
    "## vRSE Calculation"
   ]
  },
  {
   "cell_type": "code",
   "execution_count": null,
   "metadata": {},
   "outputs": [],
   "source": []
  }
 ],
 "metadata": {
  "kernelspec": {
   "display_name": "Python 3",
   "language": "python",
   "name": "python3"
  },
  "language_info": {
   "codemirror_mode": {
    "name": "ipython",
    "version": 3
   },
   "file_extension": ".py",
   "mimetype": "text/x-python",
   "name": "python",
   "nbconvert_exporter": "python",
   "pygments_lexer": "ipython3",
   "version": "3.6.3"
  }
 },
 "nbformat": 4,
 "nbformat_minor": 2
}
